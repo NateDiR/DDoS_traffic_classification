{
 "cells": [
  {
   "cell_type": "code",
   "execution_count": 7,
   "id": "7939999b",
   "metadata": {},
   "outputs": [],
   "source": [
    "import pandas as pd\n",
    "import  numpy\n",
    "from matplotlib import pyplot as plt\n",
    "import seaborn as sns\n",
    "from sklearn.neighbors import KNeighborsClassifier\n",
    "from sklearn.linear_model import LogisticRegression\n",
    "from sklearn.model_selection import train_test_split\n",
    "from sklearn.metrics import precision_score, recall_score, precision_recall_curve,f1_score, fbeta_score\n",
    "from dask import dataframe as dd\n",
    "import sqlite3\n",
    "import csv"
   ]
  },
  {
   "cell_type": "code",
   "execution_count": 8,
   "id": "9f9714d2",
   "metadata": {},
   "outputs": [],
   "source": [
    "conn = sqlite3.connect('traffic.db')"
   ]
  },
  {
   "cell_type": "code",
   "execution_count": 9,
   "id": "e696a427",
   "metadata": {},
   "outputs": [],
   "source": [
    "cur = conn.cursor()"
   ]
  },
  {
   "cell_type": "code",
   "execution_count": 10,
   "id": "acb3c0b2",
   "metadata": {},
   "outputs": [],
   "source": [
    "traffic_file = open(r\"C:\\Users\\nated\\Downloads\\CSV-01-12\\01-12\\DrDoS_LDAP.csv\")"
   ]
  },
  {
   "cell_type": "code",
   "execution_count": 11,
   "id": "c0103397",
   "metadata": {},
   "outputs": [],
   "source": [
    "rows = csv.reader(traffic_file)"
   ]
  }
 ],
 "metadata": {
  "kernelspec": {
   "display_name": "Python 3 (ipykernel)",
   "language": "python",
   "name": "python3"
  },
  "language_info": {
   "codemirror_mode": {
    "name": "ipython",
    "version": 3
   },
   "file_extension": ".py",
   "mimetype": "text/x-python",
   "name": "python",
   "nbconvert_exporter": "python",
   "pygments_lexer": "ipython3",
   "version": "3.8.12"
  }
 },
 "nbformat": 4,
 "nbformat_minor": 5
}
